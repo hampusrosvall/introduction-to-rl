{
 "cells": [
  {
   "cell_type": "code",
   "execution_count": 1,
   "metadata": {},
   "outputs": [],
   "source": [
    "from grid_world import negative_grid \n",
    "from iterative_policy_evaluation import print_values, print_policy \n",
    "import numpy as np \n",
    "from collections import defaultdict"
   ]
  },
  {
   "cell_type": "code",
   "execution_count": 2,
   "metadata": {},
   "outputs": [
    {
     "name": "stdout",
     "output_type": "stream",
     "text": [
      "rewards: \n",
      "\n",
      "---------------------------\n",
      "-0.10|-0.10|-0.10| 1.00|\n",
      "---------------------------\n",
      "-0.10| 0.00|-0.10|-1.00|\n",
      "---------------------------\n",
      "-0.10|-0.10|-0.10|-0.10|\n"
     ]
    }
   ],
   "source": [
    "# import the grid \n",
    "\n",
    "grid = negative_grid()\n",
    "\n",
    "print(\"rewards: \\n\")\n",
    "print_values(grid.rewards, grid)"
   ]
  },
  {
   "cell_type": "code",
   "execution_count": 4,
   "metadata": {},
   "outputs": [
    {
     "name": "stdout",
     "output_type": "stream",
     "text": [
      "---------------------------\n",
      "  D  |  L  |  D  |     |\n",
      "---------------------------\n",
      "  D  |     |  D  |     |\n",
      "---------------------------\n",
      "  D  |  D  |  R  |  U  |\n"
     ]
    }
   ],
   "source": [
    "# initialize policy at random \n",
    "\n",
    "policy = {}\n",
    "ALL_POSSIBLE_ACTIONS = ('U', 'D', 'L', 'R')\n",
    "\n",
    "for state in grid.actions.keys(): \n",
    "    policy[state] = np.random.choice(ALL_POSSIBLE_ACTIONS)\n",
    "    \n",
    "print_policy(policy, grid)"
   ]
  },
  {
   "cell_type": "code",
   "execution_count": 6,
   "metadata": {},
   "outputs": [
    {
     "name": "stdout",
     "output_type": "stream",
     "text": [
      "---------------------------\n",
      " 0.57| 0.80| 0.65| 0.00|\n",
      "---------------------------\n",
      " 0.47| 0.00| 0.04| 0.00|\n",
      "---------------------------\n",
      " 0.82| 0.27| 0.13| 0.53|\n"
     ]
    }
   ],
   "source": [
    "# initialize value function at random \n",
    "\n",
    "V = {}\n",
    "\n",
    "for state in grid.all_states(): \n",
    "    V[state] = np.random.random() if state in policy else 0 \n",
    "\n",
    "print_values(V, grid)"
   ]
  },
  {
   "cell_type": "code",
   "execution_count": 9,
   "metadata": {},
   "outputs": [],
   "source": [
    "# value iteration -> find optimal value function and extract policy \n",
    "\n",
    "threshold = 10e-4 \n",
    "gamma = 0.9 \n",
    "while True: \n",
    "    delta = 0 \n",
    "    for state in grid.all_states(): \n",
    "        if state in policy: \n",
    "            # extract old state-value in order to be able to check for convergence \n",
    "            old_v = V[state]\n",
    "            # for each state, find the maximum state-value for all possible actions \n",
    "            tmp = float('-inf')\n",
    "            for action in grid.actions[state]: \n",
    "                grid.set_state(state)\n",
    "                r = grid.move(action)\n",
    "                \n",
    "                # deterministic environment hence transition prob = 1 or 0 for all possible actions \n",
    "                new_v = r + gamma * V[grid.current_state()]\n",
    "                \n",
    "                if new_v > tmp: \n",
    "                    V[state] = new_v \n",
    "                    tmp = new_v \n",
    "                    \n",
    "            delta = max(delta, np.abs(old_v - V[state]))\n",
    "            \n",
    "    if delta < threshold: \n",
    "        break \n",
    "                "
   ]
  },
  {
   "cell_type": "code",
   "execution_count": 10,
   "metadata": {},
   "outputs": [
    {
     "name": "stdout",
     "output_type": "stream",
     "text": [
      "---------------------------\n",
      " 0.62| 0.80| 1.00| 0.00|\n",
      "---------------------------\n",
      " 0.46| 0.00| 0.80| 0.00|\n",
      "---------------------------\n",
      " 0.31| 0.46| 0.62| 0.46|\n"
     ]
    }
   ],
   "source": [
    "print_values(V, grid)"
   ]
  },
  {
   "cell_type": "code",
   "execution_count": 13,
   "metadata": {},
   "outputs": [
    {
     "name": "stdout",
     "output_type": "stream",
     "text": [
      "---------------------------\n",
      "  R  |  R  |  R  |     |\n",
      "---------------------------\n",
      "  U  |     |  U  |     |\n",
      "---------------------------\n",
      "  U  |  R  |  U  |  L  |\n"
     ]
    }
   ],
   "source": [
    "# extract the policy based on the optimal state-value function \n",
    "\n",
    "for state in grid.actions.keys(): \n",
    "    best_action = None \n",
    "    tmp = float('-inf')\n",
    "    for action in grid.actions[state]:\n",
    "        grid.set_state(state)\n",
    "        r = grid.move(action)\n",
    "        v = r + gamma * V[grid.current_state()]\n",
    "        \n",
    "        if v > tmp: \n",
    "            best_action = action \n",
    "            tmp = v \n",
    "            \n",
    "    policy[state] = best_action \n",
    "\n",
    "print_policy(policy, grid)\n",
    "    "
   ]
  }
 ],
 "metadata": {
  "kernelspec": {
   "display_name": "Python 3",
   "language": "python",
   "name": "python3"
  },
  "language_info": {
   "codemirror_mode": {
    "name": "ipython",
    "version": 3
   },
   "file_extension": ".py",
   "mimetype": "text/x-python",
   "name": "python",
   "nbconvert_exporter": "python",
   "pygments_lexer": "ipython3",
   "version": "3.6.9"
  }
 },
 "nbformat": 4,
 "nbformat_minor": 2
}

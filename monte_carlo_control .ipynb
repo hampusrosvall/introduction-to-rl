{
 "cells": [
  {
   "cell_type": "code",
   "execution_count": 24,
   "metadata": {},
   "outputs": [],
   "source": [
    "from grid_world import negative_grid, standard_grid\n",
    "from iterative_policy_evaluation import print_values, print_policy \n",
    "import numpy as np \n",
    "from matplotlib import pyplot as plt "
   ]
  },
  {
   "cell_type": "code",
   "execution_count": 3,
   "metadata": {},
   "outputs": [],
   "source": [
    "# define an episode of the game \n",
    "\n",
    "GAMMA = 0.9 \n",
    "ALL_POSSIBLE_ACTIONS = ('U', 'D', 'L', 'R')\n",
    "grid = negative_grid(step_cost = -0.9)\n",
    "\n",
    "def play_game(policy, grid): \n",
    "    '''\n",
    "    plays one episode of the grid world game \n",
    "    returns: a state, action, return triplet of the game \n",
    "    '''\n",
    "    \n",
    "    # random initialize starting state and action \n",
    "    starting_states = list(grid.actions.keys()) \n",
    "    starting_index = np.random.choice(len(starting_states))\n",
    "    state = starting_states[starting_index]\n",
    "    action = np.random.choice(ALL_POSSIBLE_ACTIONS)\n",
    "    \n",
    "    # set grid to current state \n",
    "    grid.set_state(state)\n",
    "    seen_states = set()\n",
    "    seen_states.add(grid.current_state())\n",
    "    \n",
    "    # append starting state, action and return 0 since starting state doesn't generate any reward \n",
    "    # as r(t) results from taking action a(t-1) from s(t-1) and landing in s(t)\n",
    "    states_actions_rewards = [(state, action, 0)]\n",
    "    \n",
    "    # i.e. we start in state: state and perform action and will then get some reward \n",
    "    num_steps = 0 \n",
    "    while True: \n",
    "        # perform the action and cache the resulting reward given action: action \n",
    "        reward = grid.move(action) \n",
    "        \n",
    "        # the state we end up in due to action: action \n",
    "        state = grid.current_state() \n",
    "        \n",
    "        # increment num_steps \n",
    "        num_steps += 1 \n",
    "        \n",
    "        # check of we ended up in the same state\n",
    "        if state in seen_states: \n",
    "            # if we bumped into a wall the reward is set to -10 and we end the episode \n",
    "            # append the action None as we shouldn't perform an action in a terminal state \n",
    "            reward = -10 / num_steps \n",
    "            states_actions_rewards.append((state, None, reward))\n",
    "            break \n",
    "            \n",
    "        # the next conditional checks if the game is over \n",
    "        elif grid.game_over(): \n",
    "            # append the state, action, reward triple and break out of the while-statement  \n",
    "            states_actions_rewards.append((state, None, reward))\n",
    "            break \n",
    "            \n",
    "        # else we continue playing, choose an action given the state\n",
    "        # append the state, action, reward triplet i.e. \n",
    "        # being in state s(t), performing action a(t) and getting the reward r(t + 1)\n",
    "        else:\n",
    "            action = policy[state]\n",
    "            states_actions_rewards.append((state, action, reward))\n",
    "            \n",
    "        seen_states.add(state)\n",
    "        \n",
    "    # when the while-statement is finished we need to calculate the return for each visited state \n",
    "    # we need to do this so that the terminal state has zero return\n",
    "    \n",
    "    first = True \n",
    "    states_actions_returns = []\n",
    "    G = 0 \n",
    "    for state, action, reward in reversed(states_actions_rewards): \n",
    "        if first: \n",
    "            # we encounter the terminal state - set first to false \n",
    "            first = False\n",
    "        else: \n",
    "            # we should add the state, action, return triple \n",
    "            states_actions_returns.append((state, action, G))\n",
    "            \n",
    "        # G is updated as r(t + 1) + GAMMA * G(t + 1)\n",
    "        G = reward + GAMMA * G\n",
    "    \n",
    "    states_actions_returns.reverse()\n",
    "    return states_actions_returns\n",
    "        "
   ]
  },
  {
   "cell_type": "code",
   "execution_count": 5,
   "metadata": {},
   "outputs": [
    {
     "name": "stdout",
     "output_type": "stream",
     "text": [
      "---------------------------\n",
      "-0.10|-0.10|-0.10| 1.00|\n",
      "---------------------------\n",
      "-0.10| 0.00|-0.10|-1.00|\n",
      "---------------------------\n",
      "-0.10|-0.10|-0.10|-0.10|\n"
     ]
    }
   ],
   "source": [
    "# print rewards \n",
    "\n",
    "print_values(grid.rewards, grid)"
   ]
  },
  {
   "cell_type": "code",
   "execution_count": 34,
   "metadata": {},
   "outputs": [
    {
     "name": "stdout",
     "output_type": "stream",
     "text": [
      "---------------------------\n",
      "  R  |  R  |  R  |     |\n",
      "---------------------------\n",
      "  U  |     |  U  |     |\n",
      "---------------------------\n",
      "  U  |  R  |  U  |  L  |\n"
     ]
    }
   ],
   "source": [
    "# initialize pi at random \n",
    "import operator \n",
    "policy = {}\n",
    "for state in grid.actions: \n",
    "    policy[state] = np.random.choice(ALL_POSSIBLE_ACTIONS)\n",
    "    \n",
    "# initialize Q and returns \n",
    "returns = {}\n",
    "Q = {}\n",
    "\n",
    "for state in grid.all_states(): \n",
    "    if state in grid.actions: \n",
    "        Q[state] = {}\n",
    "        for action in ALL_POSSIBLE_ACTIONS: \n",
    "            Q[state][action] = 0\n",
    "            returns[(state, action)] = []\n",
    "            \n",
    "# repeat \n",
    "deltas = list()\n",
    "for _ in range(10000):\n",
    "    states_actions_returns = play_game(policy, grid)\n",
    "    \n",
    "    # to cope with first-visit monte carlo approach \n",
    "    seen_pairs = set()\n",
    "    delta = 0\n",
    "    for state, action, G in states_actions_returns: \n",
    "        if (state, action) not in seen_pairs: \n",
    "            returns[(state, action)].append(G)\n",
    "            old_action_value = Q[state][action]\n",
    "            Q[state][action] = np.mean(returns[(state, action)])\n",
    "            change = max(delta, np.abs(Q[state][action] - old_action_value))\n",
    "            seen_pairs.add((state, action))\n",
    "    deltas.append(change)\n",
    "    \n",
    "    for state in grid.actions: \n",
    "        policy[state] = max(Q[state].items(), key=operator.itemgetter(1))[0]\n",
    "        \n",
    "print_policy(policy, grid)"
   ]
  },
  {
   "cell_type": "code",
   "execution_count": 29,
   "metadata": {},
   "outputs": [
    {
     "data": {
      "text/plain": [
       "[<matplotlib.lines.Line2D at 0x11493f470>]"
      ]
     },
     "execution_count": 29,
     "metadata": {},
     "output_type": "execute_result"
    },
    {
     "data": {
      "image/png": "[encoded data removed]",
      "text/plain": [
       "<Figure size 432x288 with 1 Axes>"
      ]
     },
     "metadata": {
      "needs_background": "light"
     },
     "output_type": "display_data"
    }
   ],
   "source": [
    "plt.plot(deltas)"
   ]
  },
  {
   "cell_type": "code",
   "execution_count": 35,
   "metadata": {},
   "outputs": [
    {
     "name": "stdout",
     "output_type": "stream",
     "text": [
      "---------------------------\n",
      "-0.34|-0.11| 1.00| 0.00|\n",
      "---------------------------\n",
      "-0.63| 0.00|-0.25| 0.00|\n",
      "---------------------------\n",
      "-1.20|-1.08|-0.57|-0.98|\n"
     ]
    }
   ],
   "source": [
    "V = {}\n",
    "for k, v in Q.items():\n",
    "    max_key = max(v.items(), key=operator.itemgetter(1))[0]\n",
    "    V[k] = v[max_key]\n",
    "    \n",
    "print_values(V, grid)"
   ]
  },
  {
   "cell_type": "code",
   "execution_count": null,
   "metadata": {},
   "outputs": [],
   "source": []
  }
 ],
 "metadata": {
  "kernelspec": {
   "display_name": "Python 3",
   "language": "python",
   "name": "python3"
  },
  "language_info": {
   "codemirror_mode": {
    "name": "ipython",
    "version": 3
   },
   "file_extension": ".py",
   "mimetype": "text/x-python",
   "name": "python",
   "nbconvert_exporter": "python",
   "pygments_lexer": "ipython3",
   "version": "3.6.9"
  }
 },
 "nbformat": 4,
 "nbformat_minor": 2
}

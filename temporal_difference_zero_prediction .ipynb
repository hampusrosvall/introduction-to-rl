{
 "cells": [
  {
   "cell_type": "code",
   "execution_count": 1,
   "metadata": {},
   "outputs": [],
   "source": [
    "from grid_world import negative_grid, standard_grid\n",
    "from iterative_policy_evaluation import print_values, print_policy \n",
    "import numpy as np "
   ]
  },
  {
   "cell_type": "code",
   "execution_count": 39,
   "metadata": {},
   "outputs": [
    {
     "name": "stdout",
     "output_type": "stream",
     "text": [
      "U\n"
     ]
    }
   ],
   "source": [
    "# declare constans \n",
    "\n",
    "alpha = 0.1 # learning rate \n",
    "gamma = 0.9 # discount factor \n",
    "possible_actions = ('U', 'D', 'L', 'R') \n",
    "grid = standard_grid()\n",
    "\n",
    "# define epsilon-greedy policy function \n",
    "def random_action(a, epsilon = 0.1): \n",
    "    p = np.random.random()\n",
    "    return a if p < (1 - epsilon) else np.random.choice(possible_actions)\n",
    "\n",
    "# test the function \n",
    "print(random_action('U'))"
   ]
  },
  {
   "cell_type": "code",
   "execution_count": 46,
   "metadata": {},
   "outputs": [
    {
     "data": {
      "text/plain": [
       "[((2, 0), 0), ((1, 0), 0), ((0, 0), 0), ((0, 1), 0), ((0, 2), 0), ((0, 3), 1)]"
      ]
     },
     "execution_count": 46,
     "metadata": {},
     "output_type": "execute_result"
    }
   ],
   "source": [
    "# define an episode \n",
    "\n",
    "def play_game(policy, grid): \n",
    "    # pick a starting state \n",
    "    state = (2, 0)\n",
    "    \n",
    "    # set the starting state \n",
    "    grid.set_state(state)\n",
    "    \n",
    "    # initialize list of states and rewards for the td-algorithm \n",
    "    states_and_rewards = [(state, 0)]\n",
    "    \n",
    "    # we are in state: state. pick action according to epsilon-greedy policy and make a move. \n",
    "    # cache the resulting state and immideate reward \n",
    "    while not grid.game_over(): \n",
    "        action = policy[state]\n",
    "        action = random_action(action) \n",
    "        reward = grid.move(action) \n",
    "        state = grid.current_state()\n",
    "        states_and_rewards.append((state, reward))\n",
    "        \n",
    "        \n",
    "    return states_and_rewards \n",
    "\n",
    "# define policy and test play an episode \n",
    "policy = {\n",
    "    (2, 0): 'U',\n",
    "    (1, 0): 'U',\n",
    "    (0, 0): 'R',\n",
    "    (0, 1): 'R',\n",
    "    (0, 2): 'R',\n",
    "    (1, 2): 'R',\n",
    "    (2, 1): 'R',\n",
    "    (2, 2): 'R',\n",
    "    (2, 3): 'U',\n",
    "  }\n",
    "    \n",
    "play_game(policy, grid)"
   ]
  },
  {
   "cell_type": "code",
   "execution_count": 52,
   "metadata": {},
   "outputs": [],
   "source": [
    "# tabular td(0) for estimating the value function given a policy (precition problem)\n",
    "\n",
    "# initialize V \n",
    "\n",
    "V = {}\n",
    "\n",
    "states = grid.all_states() \n",
    "\n",
    "for state in states: \n",
    "    if state in grid.actions: \n",
    "        V[state] = np.random.random()\n",
    "    else: \n",
    "        V[state] = 0 \n",
    "        \n",
    "        \n",
    "# loop for 10 000 episodes \n",
    "for _ in range(1000): \n",
    "    states_and_rewards = play_game(policy, grid)\n",
    "    \n",
    "    for timestep in range(len(states_and_rewards) - 1): \n",
    "        curr_state, _ = states_and_rewards[timestep]\n",
    "        successor_state, reward = states_and_rewards[timestep + 1]\n",
    "        V[curr_state] += alpha * (reward + gamma * (V[successor_state] - V[curr_state]))"
   ]
  },
  {
   "cell_type": "code",
   "execution_count": 53,
   "metadata": {},
   "outputs": [
    {
     "name": "stdout",
     "output_type": "stream",
     "text": [
      "values:\n",
      "---------------------------\n",
      " 1.09| 1.10| 1.11| 0.00|\n",
      "---------------------------\n",
      " 1.07| 0.00|-0.51| 0.00|\n",
      "---------------------------\n",
      " 0.98|-0.19|-0.59|-0.96|\n",
      "policy:\n",
      "---------------------------\n",
      "  R  |  R  |  R  |     |\n",
      "---------------------------\n",
      "  U  |     |  R  |     |\n",
      "---------------------------\n",
      "  U  |  R  |  R  |  U  |\n"
     ]
    }
   ],
   "source": [
    "print(\"values:\")\n",
    "print_values(V, grid)\n",
    "print(\"policy:\")\n",
    "print_policy(policy, grid)"
   ]
  }
 ],
 "metadata": {
  "kernelspec": {
   "display_name": "Python 3",
   "language": "python",
   "name": "python3"
  },
  "language_info": {
   "codemirror_mode": {
    "name": "ipython",
    "version": 3
   },
   "file_extension": ".py",
   "mimetype": "text/x-python",
   "name": "python",
   "nbconvert_exporter": "python",
   "pygments_lexer": "ipython3",
   "version": "3.6.9"
  }
 },
 "nbformat": 4,
 "nbformat_minor": 2
}

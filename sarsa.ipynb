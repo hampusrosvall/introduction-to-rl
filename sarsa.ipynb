{
 "cells": [
  {
   "cell_type": "code",
   "execution_count": 4,
   "metadata": {},
   "outputs": [],
   "source": [
    "from grid_world import negative_grid, standard_grid\n",
    "from iterative_policy_evaluation import print_values, print_policy \n",
    "import numpy as np \n",
    "import operator "
   ]
  },
  {
   "cell_type": "code",
   "execution_count": 17,
   "metadata": {},
   "outputs": [],
   "source": [
    "gamma = 0.9\n",
    "alpha = 0.1\n",
    "possible_actions = ('U', 'D', 'L', 'R')\n",
    "\n",
    "def max_dict(dictionary): \n",
    "    '''\n",
    "    Returns the argmax key and the corresponding value \n",
    "    '''\n",
    "    return max(dictionary.items(), key=operator.itemgetter(1))\n",
    "\n",
    "def random_action(a, epsilon = 0.1): \n",
    "    '''\n",
    "    Epsilon greedy policy \n",
    "    '''\n",
    "    p = np.random.random()\n",
    "    return a if p < (1 - epsilon) else np.random.choice(possible_actions)"
   ]
  },
  {
   "cell_type": "code",
   "execution_count": 23,
   "metadata": {},
   "outputs": [],
   "source": [
    "# initialize grid \n",
    "grid = negative_grid(step_cost=-0.1)\n",
    "\n",
    "# initialize Q \n",
    "Q = {}\n",
    "for state in grid.all_states(): \n",
    "    Q[state] = {}\n",
    "    for action in possible_actions: \n",
    "        Q[state][action] = 0\n",
    "        \n",
    "# let's also keep track of how many times Q[s] has been updated\n",
    "update_counts = {}\n",
    "update_counts_sa = {}\n",
    "\n",
    "for s in grid.all_states():\n",
    "    update_counts_sa[s] = {}\n",
    "    for a in possible_actions:\n",
    "        update_counts_sa[s][a] = 1.0"
   ]
  },
  {
   "cell_type": "code",
   "execution_count": 33,
   "metadata": {},
   "outputs": [
    {
     "name": "stdout",
     "output_type": "stream",
     "text": [
      "values:\n",
      "---------------------------\n",
      " 0.53| 0.75| 1.00| 0.00|\n",
      "---------------------------\n",
      " 0.34| 0.00| 0.75| 0.00|\n",
      "---------------------------\n",
      " 0.17| 0.22| 0.46| 0.22|\n",
      "policy:\n",
      "---------------------------\n",
      "  R  |  R  |  R  |     |\n",
      "---------------------------\n",
      "  U  |     |  U  |     |\n",
      "---------------------------\n",
      "  U  |  R  |  U  |  L  |\n"
     ]
    }
   ],
   "source": [
    "# the SARSA algorithm \n",
    "\n",
    "NUM_EPISODES = 10000\n",
    "t = 1\n",
    "\n",
    "for ep in range(NUM_EPISODES): \n",
    "    if ep % 100 == 0: \n",
    "        t += 0.02 \n",
    "        \n",
    "    # initialize starting state \n",
    "    state = (2, 0)\n",
    "    grid.set_state(state)\n",
    "    \n",
    "    # pick action \n",
    "    action, _ = max_dict(Q[s])\n",
    "    action = random_action(action, epsilon = 0.5/t)\n",
    "    \n",
    "    while not grid.game_over(): \n",
    "        # make action \n",
    "        reward = grid.move(action)\n",
    "        \n",
    "        # store s' and a' \n",
    "        state_prime = grid.current_state()\n",
    "        action_prime, _ = max_dict(Q[state_prime])\n",
    "        action_prime = random_action(action_prime, epsilon = 0.5/t)\n",
    "        \n",
    "        alph = alpha / update_counts_sa[state][action]\n",
    "        Q[state][action] += alph * (reward + gamma * Q[state_prime][action_prime] - Q[state][action])\n",
    "        \n",
    "        update_counts[state] = update_counts.get(state, 0) + 1\n",
    "        update_counts_sa[state][action] += 0.005\n",
    "        \n",
    "        state, action = state_prime, action_prime \n",
    "        \n",
    "        \n",
    "policy = {}\n",
    "V = {}\n",
    "for state in grid.actions.keys(): \n",
    "    policy[state], V[state] = max_dict(Q[state])\n",
    "    \n",
    "    \n",
    "print(\"values:\")\n",
    "print_values(V, grid)\n",
    "print(\"policy:\")\n",
    "print_policy(policy, grid)"
   ]
  }
 ],
 "metadata": {
  "kernelspec": {
   "display_name": "Python 3",
   "language": "python",
   "name": "python3"
  },
  "language_info": {
   "codemirror_mode": {
    "name": "ipython",
    "version": 3
   },
   "file_extension": ".py",
   "mimetype": "text/x-python",
   "name": "python",
   "nbconvert_exporter": "python",
   "pygments_lexer": "ipython3",
   "version": "3.6.9"
  }
 },
 "nbformat": 4,
 "nbformat_minor": 2
}

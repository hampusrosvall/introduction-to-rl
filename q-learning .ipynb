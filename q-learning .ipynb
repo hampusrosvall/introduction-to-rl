{
 "cells": [
  {
   "cell_type": "code",
   "execution_count": 1,
   "metadata": {},
   "outputs": [],
   "source": [
    "from grid_world import negative_grid, standard_grid\n",
    "from iterative_policy_evaluation import print_values, print_policy \n",
    "import numpy as np \n",
    "import operator "
   ]
  },
  {
   "cell_type": "code",
   "execution_count": 2,
   "metadata": {},
   "outputs": [],
   "source": [
    "gamma = 0.9\n",
    "alpha = 0.1\n",
    "possible_actions = ('U', 'D', 'L', 'R')\n",
    "\n",
    "def max_dict(dictionary): \n",
    "    '''\n",
    "    Returns the argmax key and the corresponding value \n",
    "    '''\n",
    "    return max(dictionary.items(), key=operator.itemgetter(1))\n",
    "\n",
    "def random_action(a, epsilon = 0.1): \n",
    "    '''\n",
    "    Epsilon greedy policy \n",
    "    '''\n",
    "    p = np.random.random()\n",
    "    return a if p < (1 - epsilon) else np.random.choice(possible_actions)"
   ]
  },
  {
   "cell_type": "code",
   "execution_count": 3,
   "metadata": {},
   "outputs": [],
   "source": [
    "# initialize grid \n",
    "grid = negative_grid(step_cost=-0.1)\n",
    "\n",
    "# initialize Q \n",
    "Q = {}\n",
    "for state in grid.all_states(): \n",
    "    Q[state] = {}\n",
    "    for action in possible_actions: \n",
    "        Q[state][action] = 0\n",
    "        \n",
    "# let's also keep track of how many times Q[s] has been updated\n",
    "update_counts = {}\n",
    "update_counts_sa = {}\n",
    "\n",
    "for s in grid.all_states():\n",
    "    update_counts_sa[s] = {}\n",
    "    for a in possible_actions:\n",
    "        update_counts_sa[s][a] = 1.0"
   ]
  },
  {
   "cell_type": "code",
   "execution_count": 4,
   "metadata": {},
   "outputs": [
    {
     "name": "stdout",
     "output_type": "stream",
     "text": [
      "values:\n",
      "---------------------------\n",
      " 0.62| 0.80| 1.00| 0.00|\n",
      "---------------------------\n",
      " 0.46| 0.00| 0.80| 0.00|\n",
      "---------------------------\n",
      " 0.31| 0.46| 0.62| 0.46|\n",
      "policy:\n",
      "---------------------------\n",
      "  R  |  R  |  R  |     |\n",
      "---------------------------\n",
      "  U  |     |  U  |     |\n",
      "---------------------------\n",
      "  U  |  R  |  U  |  L  |\n"
     ]
    }
   ],
   "source": [
    "# the Q-learning algorithm\n",
    "\n",
    "'''\n",
    "Q-learning is very similar to SARSA however. Using Q-learning update we update Q(s, a) w.r.t max(Q(s', a')). \n",
    "However, we don't neccessarily pick that action due to the randomness of an epsilon-greedy policy. \n",
    "Whereas in SARSA we updated Q(s, a) based on the action a' that was the result from using an epsilon-greedy policy.\n",
    "'''\n",
    "\n",
    "NUM_EPISODES = 10000\n",
    "t = 1\n",
    "\n",
    "for ep in range(NUM_EPISODES): \n",
    "    if ep % 100 == 0: \n",
    "        t += 0.02 \n",
    "        \n",
    "    # initialize starting state \n",
    "    state = (2, 0)\n",
    "    grid.set_state(state)\n",
    "    \n",
    "    # pick action \n",
    "    action, _ = max_dict(Q[s])\n",
    "    \n",
    "    while not grid.game_over(): \n",
    "        # make action \n",
    "        action = random_action(action, epsilon = 0.5/t)\n",
    "        \n",
    "        reward = grid.move(action)\n",
    "        \n",
    "        # store s' and a' \n",
    "        state_prime = grid.current_state()\n",
    "        action_prime, _ = max_dict(Q[state_prime])\n",
    "        \n",
    "        # for the SARSA algorithm this section is uncommented. \n",
    "        # action_prime = random_action(action_prime, epsilon = 0.5/t)\n",
    "        \n",
    "        alph = alpha / update_counts_sa[state][action]\n",
    "        Q[state][action] += alph * (reward + gamma * Q[state_prime][action_prime] - Q[state][action])\n",
    "        \n",
    "        update_counts[state] = update_counts.get(state, 0) + 1\n",
    "        update_counts_sa[state][action] += 0.005\n",
    "        \n",
    "        state, action = state_prime, action_prime \n",
    "        \n",
    "        \n",
    "policy = {}\n",
    "V = {}\n",
    "for state in grid.actions.keys(): \n",
    "    policy[state], V[state] = max_dict(Q[state])\n",
    "    \n",
    "    \n",
    "print(\"values:\")\n",
    "print_values(V, grid)\n",
    "print(\"policy:\")\n",
    "print_policy(policy, grid)"
   ]
  }
 ],
 "metadata": {
  "kernelspec": {
   "display_name": "Python 3",
   "language": "python",
   "name": "python3"
  },
  "language_info": {
   "codemirror_mode": {
    "name": "ipython",
    "version": 3
   },
   "file_extension": ".py",
   "mimetype": "text/x-python",
   "name": "python",
   "nbconvert_exporter": "python",
   "pygments_lexer": "ipython3",
   "version": "3.6.9"
  }
 },
 "nbformat": 4,
 "nbformat_minor": 2
}

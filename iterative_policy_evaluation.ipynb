{
 "cells": [
  {
   "cell_type": "code",
   "execution_count": 9,
   "metadata": {},
   "outputs": [],
   "source": [
    "# imports \n",
    "\n",
    "from grid_world import standard_grid \n",
    "import numpy as np "
   ]
  },
  {
   "cell_type": "code",
   "execution_count": 2,
   "metadata": {},
   "outputs": [],
   "source": [
    "# define functions \n",
    "\n",
    "def print_values(V, g):\n",
    "  for i in range(g.rows):\n",
    "    print(\"---------------------------\")\n",
    "    for j in range(g.cols):\n",
    "      v = V.get((i,j), 0)\n",
    "      if v >= 0:\n",
    "        print(\" %.2f|\" % v, end=\"\")\n",
    "      else:\n",
    "        print(\"%.2f|\" % v, end=\"\") # -ve sign takes up an extra space\n",
    "    print(\"\")\n",
    "\n",
    "\n",
    "def print_policy(P, g):\n",
    "  for i in range(g.rows):\n",
    "    print(\"---------------------------\")\n",
    "    for j in range(g.cols):\n",
    "      a = P.get((i,j), ' ')\n",
    "      print(\"  %s  |\" % a, end=\"\")\n",
    "    print(\"\")"
   ]
  },
  {
   "cell_type": "code",
   "execution_count": 3,
   "metadata": {},
   "outputs": [],
   "source": [
    "# import a grid \n",
    "\n",
    "grid = standard_grid() "
   ]
  },
  {
   "cell_type": "code",
   "execution_count": 5,
   "metadata": {},
   "outputs": [
    {
     "data": {
      "text/plain": [
       "(2, 0)"
      ]
     },
     "execution_count": 5,
     "metadata": {},
     "output_type": "execute_result"
    }
   ],
   "source": [
    "grid.current_state()"
   ]
  },
  {
   "cell_type": "code",
   "execution_count": 17,
   "metadata": {},
   "outputs": [],
   "source": [
    "# states will be positions (i,j)\n",
    "# simpler than tic-tac-toe because we only have one \"game piece\"\n",
    "# that can only be at one position at a time\n",
    "states = grid.all_states()\n",
    "\n",
    "### uniformly random actions ###\n",
    "\n",
    "# initialize value function to zero for all states \n",
    "V = {}\n",
    "\n",
    "# V is a dictionary holding each state as key and the value function as value \n",
    "\n",
    "for s in states: \n",
    "    V[s] = 0 \n",
    "\n",
    "# initialize discount factor \n",
    "gamma = 1\n",
    "threshold = 0.01\n",
    "\n",
    "while True: \n",
    "    delta = 0 \n",
    "    \n",
    "    for s in states: \n",
    "        # save away old value of the value function at state s \n",
    "        old_v = V[s]\n",
    "        \n",
    "        if s in grid.actions: \n",
    "            # each action has the same probability \n",
    "            p_a = 1/len(grid.actions[s])\n",
    "\n",
    "            # initialize new_v as we perform calculations over all actions \n",
    "            new_v = 0\n",
    "            for a in grid.actions[s]: \n",
    "                grid.set_state(s)\n",
    "                r = grid.move(a)\n",
    "                new_v += p_a * (r + gamma * V[grid.current_state()])\n",
    "\n",
    "            V[s] = new_v \n",
    "            delta = max(delta, np.abs(old_v - new_v))\n",
    "            \n",
    "    if delta < threshold: \n",
    "        break"
   ]
  },
  {
   "cell_type": "code",
   "execution_count": 18,
   "metadata": {},
   "outputs": [
    {
     "name": "stdout",
     "output_type": "stream",
     "text": [
      "values for uniformly random actions:\n",
      "---------------------------\n",
      " 0.01| 0.13| 0.24| 0.00|\n",
      "---------------------------\n",
      "-0.11| 0.00|-0.42| 0.00|\n",
      "---------------------------\n",
      "-0.24|-0.37|-0.52|-0.76|\n",
      "\n",
      "\n",
      "\n"
     ]
    }
   ],
   "source": [
    "print(\"values for uniformly random actions:\")\n",
    "print_values(V, grid)\n",
    "print(\"\\n\\n\")"
   ]
  }
 ],
 "metadata": {
  "kernelspec": {
   "display_name": "Python 3",
   "language": "python",
   "name": "python3"
  },
  "language_info": {
   "codemirror_mode": {
    "name": "ipython",
    "version": 3
   },
   "file_extension": ".py",
   "mimetype": "text/x-python",
   "name": "python",
   "nbconvert_exporter": "python",
   "pygments_lexer": "ipython3",
   "version": "3.6.9"
  }
 },
 "nbformat": 4,
 "nbformat_minor": 2
}

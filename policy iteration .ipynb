{
 "cells": [
  {
   "cell_type": "code",
   "execution_count": 10,
   "metadata": {},
   "outputs": [],
   "source": [
    "from grid_world import negative_grid \n",
    "from iterative_policy_evaluation import print_values, print_policy \n",
    "import numpy as np \n",
    "from collections import defaultdict "
   ]
  },
  {
   "cell_type": "code",
   "execution_count": 23,
   "metadata": {},
   "outputs": [
    {
     "name": "stdout",
     "output_type": "stream",
     "text": [
      "rewards: \n",
      "\n",
      "---------------------------\n",
      "-0.10|-0.10|-0.10| 1.00|\n",
      "---------------------------\n",
      "-0.10| 0.00|-0.10|-1.00|\n",
      "---------------------------\n",
      "-0.10|-0.10|-0.10|-0.10|\n"
     ]
    }
   ],
   "source": [
    "grid = negative_grid() \n",
    "\n",
    "print(\"rewards: \\n\")\n",
    "print_values(grid.rewards, grid)"
   ]
  },
  {
   "cell_type": "code",
   "execution_count": 45,
   "metadata": {},
   "outputs": [
    {
     "name": "stdout",
     "output_type": "stream",
     "text": [
      "---------------------------\n",
      "  U  |  R  |  D  |     |\n",
      "---------------------------\n",
      "  R  |     |  D  |     |\n",
      "---------------------------\n",
      "  R  |  R  |  D  |  L  |\n"
     ]
    }
   ],
   "source": [
    "# initialize random policy \n",
    "\n",
    "policy = {}\n",
    "ALL_POSSIBLE_ACTIONS = ('U', 'D', 'L', 'R')\n",
    "\n",
    "for state in grid.actions: \n",
    "    policy[state] = np.random.choice(ALL_POSSIBLE_ACTIONS)\n",
    "\n",
    "    \n",
    "# print policy \n",
    "print_policy(policy, grid)"
   ]
  },
  {
   "cell_type": "code",
   "execution_count": 59,
   "metadata": {},
   "outputs": [
    {
     "name": "stdout",
     "output_type": "stream",
     "text": [
      "---------------------------\n",
      "  D  |  D  |  D  |     |\n",
      "---------------------------\n",
      "  L  |     |  U  |     |\n",
      "---------------------------\n",
      "  R  |  R  |  L  |  L  |\n",
      "D R\n",
      "D U\n",
      "D R\n",
      "L U\n",
      "U L\n",
      "R U\n",
      "R U\n",
      "L U\n",
      "L D\n",
      "R R\n",
      "U R\n",
      "R R\n",
      "U U\n",
      "L U\n",
      "U U\n",
      "U L\n",
      "U U\n",
      "D D\n",
      "R R\n",
      "R R\n",
      "R R\n",
      "U U\n",
      "U U\n",
      "U U\n",
      "L R\n",
      "U U\n",
      "D L\n",
      "R R\n",
      "R R\n",
      "R R\n",
      "U U\n",
      "U U\n",
      "U U\n",
      "R R\n",
      "U U\n",
      "L L\n"
     ]
    }
   ],
   "source": [
    "# iterative policy evaluation & policy improvement \n",
    " \n",
    "gamma = 0.9 \n",
    "threshold = 1e-6 \n",
    "V = {}\n",
    "\n",
    "policy = {}\n",
    "ALL_POSSIBLE_ACTIONS = ('U', 'D', 'L', 'R')\n",
    "\n",
    "for state in grid.actions: \n",
    "    policy[state] = np.random.choice(ALL_POSSIBLE_ACTIONS)\n",
    "\n",
    "    \n",
    "# print policy \n",
    "print_policy(policy, grid)\n",
    "\n",
    "for state in grid.all_states(): \n",
    "    if state in policy: \n",
    "        V[state] = np.random.random()\n",
    "    else: \n",
    "        V[state] = 0 \n",
    "        \n",
    "while True: \n",
    "    # iterative policy evaluation \n",
    "    while True: \n",
    "        delta = 0\n",
    "        for state in grid.all_states(): \n",
    "            old_v = V[state]\n",
    "            \n",
    "            if state in policy: \n",
    "                grid.set_state(state)\n",
    "                action = policy[state]\n",
    "                r = grid.move(action)\n",
    "                V[state] = r + gamma * V[grid.current_state()]\n",
    "                delta = max(delta, np.abs(old_v - V[state]))\n",
    "            \n",
    "        if delta < threshold: \n",
    "            break \n",
    "        \n",
    "    # policy improvement \n",
    "    policy_converged = True  \n",
    "    for state in grid.actions: \n",
    "        old_action = policy[state]\n",
    "    \n",
    "        new_a = None \n",
    "        best_value = float('-inf')\n",
    "        for action in ALL_POSSIBLE_ACTIONS: \n",
    "            grid.set_state(state)\n",
    "            r = grid.move(action)\n",
    "            v = r + gamma * V[grid.current_state()]\n",
    "            if v > best_value: \n",
    "                best_value = v \n",
    "                new_action = action \n",
    "        \n",
    "        print(old_action, new_action)\n",
    "        # update policy \n",
    "        policy[state] = new_action\n",
    "        if old_action != new_action: \n",
    "            policy_converged = False \n",
    "    \n",
    "    if policy_converged: \n",
    "        break \n",
    "    \n",
    "    "
   ]
  },
  {
   "cell_type": "code",
   "execution_count": 60,
   "metadata": {},
   "outputs": [
    {
     "name": "stdout",
     "output_type": "stream",
     "text": [
      "values:\n",
      "---------------------------\n",
      " 0.62| 0.80| 1.00| 0.00|\n",
      "---------------------------\n",
      " 0.46| 0.00| 0.80| 0.00|\n",
      "---------------------------\n",
      " 0.31| 0.46| 0.62| 0.46|\n",
      "policy:\n",
      "---------------------------\n",
      "  R  |  R  |  R  |     |\n",
      "---------------------------\n",
      "  U  |     |  U  |     |\n",
      "---------------------------\n",
      "  U  |  R  |  U  |  L  |\n"
     ]
    }
   ],
   "source": [
    "print(\"values:\")\n",
    "print_values(V, grid)\n",
    "print(\"policy:\")\n",
    "print_policy(policy, grid)"
   ]
  }
 ],
 "metadata": {
  "kernelspec": {
   "display_name": "Python 3",
   "language": "python",
   "name": "python3"
  },
  "language_info": {
   "codemirror_mode": {
    "name": "ipython",
    "version": 3
   },
   "file_extension": ".py",
   "mimetype": "text/x-python",
   "name": "python",
   "nbconvert_exporter": "python",
   "pygments_lexer": "ipython3",
   "version": "3.6.9"
  }
 },
 "nbformat": 4,
 "nbformat_minor": 2
}

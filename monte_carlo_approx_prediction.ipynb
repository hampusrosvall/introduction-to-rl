{
 "cells": [
  {
   "cell_type": "code",
   "execution_count": 1,
   "metadata": {},
   "outputs": [],
   "source": [
    "from grid_world import negative_grid, standard_grid\n",
    "from iterative_policy_evaluation import print_values, print_policy \n",
    "import numpy as np "
   ]
  },
  {
   "cell_type": "code",
   "execution_count": null,
   "metadata": {},
   "outputs": [],
   "source": [
    "def play_game(policy, grid): \n",
    "    '''\n",
    "    Plays one episode of the game using exploring starts \n",
    "    '''\n",
    "    \n",
    "    start_states = grid.actions.keys()\n",
    "    start_index = np.random.choice(len(start_states))\n",
    "    \n",
    "    \n",
    "    while not grid.is_terminal(state)"
   ]
  },
  {
   "cell_type": "code",
   "execution_count": null,
   "metadata": {},
   "outputs": [],
   "source": [
    "LEARNING_RATE = 0.001 \n",
    "\n",
    "def mc_approx_prediction(policy): \n",
    "    theta = np.random.random(2,1)\n",
    "    \n",
    "    # play game for 1000 episodes \n",
    "    for _ in range(1000): \n",
    "        "
   ]
  }
 ],
 "metadata": {
  "kernelspec": {
   "display_name": "Python 3",
   "language": "python",
   "name": "python3"
  },
  "language_info": {
   "codemirror_mode": {
    "name": "ipython",
    "version": 3
   },
   "file_extension": ".py",
   "mimetype": "text/x-python",
   "name": "python",
   "nbconvert_exporter": "python",
   "pygments_lexer": "ipython3",
   "version": "3.6.9"
  }
 },
 "nbformat": 4,
 "nbformat_minor": 2
}
